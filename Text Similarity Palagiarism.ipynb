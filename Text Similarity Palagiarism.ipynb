{
 "cells": [
  {
   "cell_type": "code",
   "execution_count": 1,
   "metadata": {},
   "outputs": [
    {
     "name": "stderr",
     "output_type": "stream",
     "text": [
      "[nltk_data] Downloading package punkt to\n",
      "[nltk_data]     C:\\Users\\voilentKiller0\\AppData\\Roaming\\nltk_data...\n",
      "[nltk_data]   Package punkt is already up-to-date!\n",
      "[nltk_data] Downloading package averaged_perceptron_tagger to\n",
      "[nltk_data]     C:\\Users\\voilentKiller0\\AppData\\Roaming\\nltk_data...\n",
      "[nltk_data]   Package averaged_perceptron_tagger is already up-to-\n",
      "[nltk_data]       date!\n"
     ]
    },
    {
     "data": {
      "text/plain": [
       "True"
      ]
     },
     "execution_count": 1,
     "metadata": {},
     "output_type": "execute_result"
    }
   ],
   "source": [
    "import nltk\n",
    "import numpy as np\n",
    "nltk.download('punkt')\n",
    "nltk.download('averaged_perceptron_tagger') "
   ]
  },
  {
   "cell_type": "markdown",
   "metadata": {},
   "source": [
    "Text Paragraph"
   ]
  },
  {
   "cell_type": "code",
   "execution_count": 2,
   "metadata": {},
   "outputs": [],
   "source": [
    "plag = \"The legal system is made up of civil courts, criminal courts and specialty courts, such as family law courts and bankruptcy courts. Each court has its own jurisdiction, which refers to the cases that the court is allowed to hear. In some instances, a case can only be heard in one type of court. For example, a bankruptcy case must be heard in a bankruptcy court. In other instances, more than one court could potentially have jurisdiction. For example, a federal criminal court and a state criminal court would each have jurisdiction over a crime that is a federal drug offense but that is also a state offense.\"\n",
    "original = \"The legal system is made up of criminal and civil courts and specialty courts like bankruptcy and family law courts. Each court is vested with its own jurisdiction. Jurisdiction refers to the types of cases the court is permitted to rule on. Sometimes, only one type of court can hear a particular case. For instance, bankruptcy cases can be ruled on only in bankruptcy court. In other situations, it is possible for more than one court to have jurisdiction. For instance, both a state and federal criminal court could have authority over a criminal case that is also considered an offense under federal and state drug laws.\"\n",
    "target =\"Gardening in mixed beds is a great way to get the most productivity from a small space. Some investment is required, to purchase materials for the beds themselves, as well as soil and compost. The investment will likely pay-off in terms of increased productivity.\"\n",
    "references =\"If you don’t have a lot of space for a garden, raised beds can be a great option. Gardening in mixed beds is a great way to get the most productivity from a small area. Some investment is required. You’ll need to purchase materials for the raised beds themselves, as well as soil and compost. The investment will pay off, though, in the form of increased productivity.\""
   ]
  },
  {
   "cell_type": "code",
   "execution_count": 5,
   "metadata": {},
   "outputs": [],
   "source": [
    "def findNouns(para):\n",
    "    is_noun = lambda pos: pos[:2] == 'NN'\n",
    "    tokenized = nltk.word_tokenize(para)\n",
    "    nouns = [word for (word, pos) in nltk.pos_tag(tokenized) if is_noun(pos)]\n",
    "    return nouns "
   ]
  },
  {
   "cell_type": "code",
   "execution_count": 6,
   "metadata": {},
   "outputs": [],
   "source": [
    "target_noun, ref_noun=findNouns(target),findNouns(references)"
   ]
  },
  {
   "cell_type": "code",
   "execution_count": 11,
   "metadata": {},
   "outputs": [
    {
     "name": "stdout",
     "output_type": "stream",
     "text": [
      "Nouns list in target paragraph : ['beds', 'way', 'productivity', 'space', 'investment', 'materials', 'beds', 'soil', 'compost', 'investment', 'terms', 'productivity']\n",
      "\n",
      "Nouns list in reference paragraph : ['t', 'lot', 'space', 'garden', 'beds', 'option', 'Gardening', 'beds', 'way', 'productivity', 'area', 'investment', 'need', 'materials', 'beds', 'soil', 'compost', 'investment', 'form', 'productivity']\n"
     ]
    }
   ],
   "source": [
    "print (f\"Nouns list in target paragraph : {target_noun}\\n\\nNouns list in reference paragraph : {ref_noun}\")"
   ]
  },
  {
   "cell_type": "code",
   "execution_count": 12,
   "metadata": {},
   "outputs": [],
   "source": [
    "def sharedWords(list1,list2):\n",
    "    list1s = set(list1)\n",
    "    shared = list1s.intersection(list2)\n",
    "    return shared "
   ]
  },
  {
   "cell_type": "code",
   "execution_count": 13,
   "metadata": {},
   "outputs": [
    {
     "name": "stdout",
     "output_type": "stream",
     "text": [
      "Shared nouns word between two paragreph target and reference : {'space', 'productivity', 'beds', 'investment', 'materials', 'soil', 'compost', 'way'}\n"
     ]
    }
   ],
   "source": [
    "shared = sharedWords(target_noun, ref_noun)\n",
    "print (f\"Shared nouns word between two paragreph target and reference : {shared}\")"
   ]
  },
  {
   "cell_type": "code",
   "execution_count": 14,
   "metadata": {},
   "outputs": [],
   "source": [
    "def findsharedAmount(list1,list2):\n",
    "    m=0\n",
    "    for i in list1:\n",
    "        if i in list2:\n",
    "            m += len(i)\n",
    "    return m"
   ]
  },
  {
   "cell_type": "code",
   "execution_count": 15,
   "metadata": {},
   "outputs": [
    {
     "name": "stdout",
     "output_type": "stream",
     "text": [
      "Shared amount in target noun : 80\n",
      "Shared amount in reference noun : 84\n"
     ]
    }
   ],
   "source": [
    "sharedAmtTarget, sharedAmtRef = findsharedAmount(target_noun, shared), findsharedAmount(ref_noun, shared)\n",
    "print (f\"Shared amount in target noun : {sharedAmtTarget}\\nShared amount in reference noun : {sharedAmtRef}\")"
   ]
  },
  {
   "cell_type": "code",
   "execution_count": 16,
   "metadata": {},
   "outputs": [],
   "source": [
    "def thres(nt,nr,M):\n",
    "    x=0\n",
    "    y=0\n",
    "    for i in nt:\n",
    "        x+=len(i)\n",
    "    for i in nr:\n",
    "        y+=len(i)\n",
    "    return min(x//M,y//M)"
   ]
  },
  {
   "cell_type": "code",
   "execution_count": 17,
   "metadata": {},
   "outputs": [],
   "source": [
    "def defthreshold(C):\n",
    "    m=0\n",
    "    for i in C:\n",
    "        m+=len(i)\n",
    "    return m"
   ]
  },
  {
   "cell_type": "code",
   "execution_count": 18,
   "metadata": {},
   "outputs": [],
   "source": [
    "def generateflags(Ft,nt,C):\n",
    "    for i in range(len(nt)):\n",
    "        if nt[i] in C:\n",
    "            Ft[i]=True\n",
    "    return Ft"
   ]
  },
  {
   "cell_type": "code",
   "execution_count": 19,
   "metadata": {},
   "outputs": [],
   "source": [
    "def findIsolatedFalse(nt,Ft):\n",
    "    for i in range(len(Ft)-2):\n",
    "        x=Ft[i:i+3]\n",
    "        if x[1]==False and x[0] ==True and x[2]==True:\n",
    "            x[1]=True\n",
    "            Ft[i:i+3] = x\n",
    "            nt[i+1]='#'\n",
    "    return nt,Ft"
   ]
  },
  {
   "cell_type": "code",
   "execution_count": 21,
   "metadata": {},
   "outputs": [],
   "source": [
    "falseTarget = [False]*len(target_noun)\n",
    "falseRef = [False]*len(ref_noun)\n",
    "falseTarget = generateflags(falseTarget,target_noun,shared)\n",
    "falseRef = generateflags(falseRef,ref_noun,shared)\n"
   ]
  },
  {
   "cell_type": "code",
   "execution_count": 22,
   "metadata": {},
   "outputs": [
    {
     "name": "stdout",
     "output_type": "stream",
     "text": [
      "[True, True, True, True, True, True, True, True, True, True, False, True]\n",
      "[False, False, True, False, True, False, False, True, True, True, False, True, False, True, True, True, True, True, False, True]\n"
     ]
    }
   ],
   "source": [
    "print (falseTarget,falseRef, sep = \"\\n\")"
   ]
  },
  {
   "cell_type": "code",
   "execution_count": 23,
   "metadata": {},
   "outputs": [],
   "source": [
    "target_noun, falseTarget = findIsolatedFalse(target_noun, falseTarget)\n",
    "ref_noun, falseRef = findIsolatedFalse(ref_noun, falseRef)"
   ]
  },
  {
   "cell_type": "code",
   "execution_count": 26,
   "metadata": {},
   "outputs": [
    {
     "name": "stdout",
     "output_type": "stream",
     "text": [
      "['beds', 'way', 'productivity', 'space', 'investment', 'materials', 'beds', 'soil', 'compost', 'investment', '#', 'productivity']\n",
      "[True, True, True, True, True, True, True, True, True, True, True, True]\n"
     ]
    }
   ],
   "source": [
    "print (target_noun,falseTarget, sep = \"\\n\")"
   ]
  },
  {
   "cell_type": "code",
   "execution_count": 27,
   "metadata": {},
   "outputs": [
    {
     "name": "stdout",
     "output_type": "stream",
     "text": [
      "['t', 'lot', 'space', '#', 'beds', 'option', 'Gardening', 'beds', 'way', 'productivity', '#', 'investment', '#', 'materials', 'beds', 'soil', 'compost', 'investment', '#', 'productivity']\n",
      "[False, False, True, True, True, False, False, True, True, True, True, True, True, True, True, True, True, True, True, True]\n"
     ]
    }
   ],
   "source": [
    "print (ref_noun,falseRef, sep = \"\\n\")"
   ]
  },
  {
   "cell_type": "code",
   "execution_count": 28,
   "metadata": {},
   "outputs": [],
   "source": [
    "def compress(nr,Fr,M):\n",
    "    x=0\n",
    "    nr_hat=[]\n",
    "    while(x< len(Fr)):\n",
    "        if (Fr[x]==False and x==0):\n",
    "            for j in range(x+1, len(Fr)):\n",
    "                if(Fr[j]==False):\n",
    "                    x = j\n",
    "        elif (Fr[x]==True):\n",
    "            nr_hat.append(nr[x])\n",
    "        elif (Fr[x]==False):\n",
    "            for j in range(x+1, len(Fr)):\n",
    "                if(Fr[j]==False):\n",
    "                    x = j\n",
    "            nr_hat.append(\" \")\n",
    "        x = x+1\n",
    "\n",
    "    return nr_hat"
   ]
  },
  {
   "cell_type": "code",
   "execution_count": 29,
   "metadata": {},
   "outputs": [],
   "source": [
    "def removeContinuoustrue(nr,Fr,M):\n",
    "    x=0\n",
    "    pp = 0\n",
    "    i = 0\n",
    "    while(i<len(Fr)):\n",
    "        if Fr[i]==True:\n",
    "            x=0\n",
    "            x = x+len(nr[i])\n",
    "            for j in range(i+1,len(Fr)):\n",
    "                if Fr[j]==True:\n",
    "                    x = x+ len(nr[j])\n",
    "                    pp = j\n",
    "                else:\n",
    "                    break\n",
    "\n",
    "            if (pp==len(Fr)-1):\n",
    "                break\n",
    "            if (x<M):\n",
    "                for k in range(i,pp+1):\n",
    "                    Fr[k]=False\n",
    "                i = pp\n",
    "        i = i+1\n",
    "    return Fr, nr"
   ]
  },
  {
   "cell_type": "code",
   "execution_count": 30,
   "metadata": {},
   "outputs": [],
   "source": [
    "def compare(nr_hat,nt_hat,threshold):\n",
    "    plagText=[]\n",
    "    for i in range(0,len(nr_hat)+1):\n",
    "        x = len(nr_hat)-i\n",
    "        y = 0\n",
    "        res = np.ones(i) * -1\n",
    "        while(x<len(nr_hat) and y<i and y<len(nt_hat)):\n",
    "            if(nr_hat[x]=='#' and nt_hat[y]=='#'):\n",
    "                res[y]= 0\n",
    "            elif (nr_hat[x]=='#'):\n",
    "                res[y] = len(nt_hat[y])\n",
    "            elif (nt_hat[y] =='#'):\n",
    "                res[y] = len(nr_hat[x])\n",
    "            elif (nr_hat[x]==nt_hat[y]):\n",
    "                res[y] = len(nr_hat[x])\n",
    "            \n",
    "            y +=1\n",
    "            x +=1\n",
    "        \n",
    "        x=0\n",
    "        while x<len(res):\n",
    "            start = -1\n",
    "            end = -1\n",
    "            temp=0\n",
    "            if (res[x] >=0) :\n",
    "                start = x\n",
    "                end=x\n",
    "                temp+=res[x]\n",
    "      \n",
    "                for k in range(x+1,len(res)):\n",
    "                    if res[k]>=0 :\n",
    "                        temp+=res[k]\n",
    "                        end=k\n",
    "                    else :\n",
    "                        x=k\n",
    "                        break\n",
    "            if (temp> threshold) :\n",
    "                plagText.append([nr_hat[start:end],temp])\n",
    "      \n",
    "            x+=1\n",
    "\n",
    "    return plagText "
   ]
  },
  {
   "cell_type": "code",
   "execution_count": 31,
   "metadata": {},
   "outputs": [],
   "source": [
    "def plagRate(l,l0):\n",
    "    rate = (l-l0)/l\n",
    "    return rate"
   ]
  },
  {
   "cell_type": "code",
   "execution_count": 39,
   "metadata": {},
   "outputs": [],
   "source": [
    "def detectSimilarity(target,references):\n",
    "    nt = findNouns(target)\n",
    "    nr = findNouns(references)\n",
    "    shared = sharedWords(nt,nr)\n",
    "    mt = findsharedAmount(nt,shared) \n",
    "    mr = findsharedAmount(nr,shared)\n",
    "    threshold = defthreshold(shared)\n",
    "    threshold = thres(nt,nr,threshold)\n",
    "    check= mt>=threshold or mr >=threshold\n",
    "    print(check)\n",
    "  \n",
    "    Ft = [False]*len(nt)\n",
    "    Fr = [False]*len(nr)\n",
    "  \n",
    "    Ft = generateflags(Ft,nt,shared)\n",
    "    Fr = generateflags(Fr,nr,shared)\n",
    "  \n",
    "    nt,Ft = findIsolatedFalse(nt,Ft)\n",
    "    nr,Fr = findIsolatedFalse(nr,Fr)\n",
    "  \n",
    "    Fr1,nr_hat = removeContinuoustrue(nr.copy(),Fr.copy(),threshold)\n",
    "    Ft1,nt_hat = removeContinuoustrue(nt.copy(),Ft.copy(),threshold)\n",
    "  \n",
    "    nr_hat = compress(nr_hat,Fr1,threshold)\n",
    "    nt_hat = compress(nt_hat,Ft1,threshold)\n",
    "  \n",
    "    plagiarised = compare(nr_hat, nt_hat, threshold)\n",
    "  \n",
    "    psets = set()\n",
    "    for i in range(0, len(plagiarised)):\n",
    "        psets = psets.union(set(plagiarised[i][0]))\n",
    "  \n",
    "    difference = set(nt_hat).difference(psets)\n",
    "    print(\"Plagiarism can be found at/around these section of words--> {}\\n\".format(psets))\n",
    "    l0 = 0 \n",
    "    l = 0\n",
    "    for i in nt_hat:\n",
    "        l = l + len(i)\n",
    "    for i in difference:\n",
    "        l0 = l0 + len(i)\n",
    "    return plagRate(l,l0)"
   ]
  },
  {
   "cell_type": "code",
   "execution_count": 40,
   "metadata": {},
   "outputs": [
    {
     "name": "stdout",
     "output_type": "stream",
     "text": [
      "True\n",
      "Plagiarism can be found at/around these section of words--> {'productivity', 'beds', 'investment', '#', 'materials', 'compost', 'soil', 'way'}\n",
      "\n",
      "True\n",
      "Plagiarism can be found at/around these section of words--> {'bankruptcy', 'law', 'system', 'courts', 'specialty', 'family'}\n",
      "\n"
     ]
    }
   ],
   "source": [
    "simTargetRef = detectSimilarity(target,references)\n",
    "simOriginalPlag = detectSimilarity(original,plag)"
   ]
  },
  {
   "cell_type": "code",
   "execution_count": 42,
   "metadata": {},
   "outputs": [
    {
     "name": "stdout",
     "output_type": "stream",
     "text": [
      "Plagiarism percent between Target and Reference paragraph : 93.82716049382715 %\n",
      "Plagiarism percent between Original and Plagiarism paragraph : 74.28571428571429 %\n"
     ]
    }
   ],
   "source": [
    "print (f\"Plagiarism percent between Target and Reference paragraph : {simTargetRef*100} %\")\n",
    "print (f\"Plagiarism percent between Original and Plagiarism paragraph : {simOriginalPlag*100} %\")"
   ]
  },
  {
   "cell_type": "code",
   "execution_count": null,
   "metadata": {},
   "outputs": [],
   "source": []
  }
 ],
 "metadata": {
  "kernelspec": {
   "display_name": "Python 3",
   "language": "python",
   "name": "python3"
  },
  "language_info": {
   "codemirror_mode": {
    "name": "ipython",
    "version": 3
   },
   "file_extension": ".py",
   "mimetype": "text/x-python",
   "name": "python",
   "nbconvert_exporter": "python",
   "pygments_lexer": "ipython3",
   "version": "3.7.3"
  }
 },
 "nbformat": 4,
 "nbformat_minor": 2
}
